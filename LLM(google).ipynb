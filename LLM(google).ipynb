{
  "nbformat": 4,
  "nbformat_minor": 0,
  "metadata": {
    "colab": {
      "provenance": [],
      "authorship_tag": "ABX9TyM81idSOJuXK6+tf76AVzeA",
      "include_colab_link": true
    },
    "kernelspec": {
      "name": "python3",
      "display_name": "Python 3"
    },
    "language_info": {
      "name": "python"
    }
  },
  "cells": [
    {
      "cell_type": "markdown",
      "metadata": {
        "id": "view-in-github",
        "colab_type": "text"
      },
      "source": [
        "<a href=\"https://colab.research.google.com/github/paulo-santos-ds/Llm/blob/main/LLM(google).ipynb\" target=\"_parent\"><img src=\"https://colab.research.google.com/assets/colab-badge.svg\" alt=\"Open In Colab\"/></a>"
      ]
    },
    {
      "cell_type": "code",
      "execution_count": null,
      "metadata": {
        "id": "yZAgWxR90haG"
      },
      "outputs": [],
      "source": [
        "!pip install streamlit -q\n",
        "!pip install numpy -q\n",
        "!apt-get install ffmpeg -q\n",
        "! pip install deep_translator -q\n",
        "!pip install googletrans==4.0.0-rc1 -q\n",
        "!pip install pyngrok -q\n"
      ]
    },
    {
      "cell_type": "code",
      "source": [
        "import streamlit as st\n",
        "from deep_translator import GoogleTranslator"
      ],
      "metadata": {
        "id": "tgK4EHTm0w1t"
      },
      "execution_count": 26,
      "outputs": []
    },
    {
      "cell_type": "code",
      "source": [
        "# Salve isso como tradutor.py\n",
        "import streamlit as st\n",
        "from deep_translator import GoogleTranslator\n",
        "\n",
        "st.title(\"Tradutor Simples com Streamlit\")\n",
        "\n",
        "# Cria um objeto tradutor\n",
        "tradutor = GoogleTranslator(source='pt', target='en')\n",
        "\n",
        "# Cria um input para o usuário inserir o texto\n",
        "texto_original = st.text_input(\"Digite o texto a ser traduzido:\")\n",
        "\n",
        "# Verifica se o usuário inseriu algum texto\n",
        "if texto_original:\n",
        "    # Realiza a tradução\n",
        "    traducao = tradutor.translate(texto_original)\n",
        "\n",
        "    # Exibe o resultado da tradução\n",
        "    st.write(\"Texto traduzido para o inglês:\")\n",
        "    st.write(traducao)\n"
      ],
      "metadata": {
        "id": "ZTJvJEQP32zN"
      },
      "execution_count": null,
      "outputs": []
    },
    {
      "cell_type": "code",
      "source": [
        "from pyngrok import ngrok\n",
        "\n",
        "# Start ngrok and get the URL\n",
        "public_url = ngrok.connect(8501)\n",
        "print(\" * ngrok tunnel \\\"{}\\\" -> \\\"http://localhost:8501\\\"\".format(public_url))\n",
        "\n",
        "!streamlit run tradutor.py &"
      ],
      "metadata": {
        "id": "a6CB1F690sBe"
      },
      "execution_count": null,
      "outputs": []
    }
  ]
}

